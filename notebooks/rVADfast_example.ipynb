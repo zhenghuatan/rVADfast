{
 "cells": [
  {
   "cell_type": "code",
   "execution_count": 1,
   "metadata": {
    "collapsed": true,
    "ExecuteTime": {
     "end_time": "2024-01-18T16:09:57.462180Z",
     "start_time": "2024-01-18T16:09:57.036578Z"
    }
   },
   "outputs": [],
   "source": [
    "from matplotlib import pyplot as plt\n",
    "import audiofile\n",
    "import numpy as np"
   ]
  },
  {
   "cell_type": "markdown",
   "source": [
    "# Using rVADfast instance"
   ],
   "metadata": {
    "collapsed": false
   }
  },
  {
   "cell_type": "code",
   "execution_count": 2,
   "outputs": [],
   "source": [
    "from rVADfast import rVADfast"
   ],
   "metadata": {
    "collapsed": false,
    "ExecuteTime": {
     "end_time": "2024-01-18T16:09:57.846427Z",
     "start_time": "2024-01-18T16:09:57.462814Z"
    }
   }
  },
  {
   "cell_type": "code",
   "execution_count": 3,
   "outputs": [],
   "source": [
    "from glob import glob\n",
    "import re\n",
    "\n",
    "def get_alignment(alignment_root, identifiers):\n",
    "    speaker = str(identifiers[0])\n",
    "    chapter = str(identifiers[1])\n",
    "    utterance = str(identifiers[2])\n",
    "    # Make sure utterance id is four digits\n",
    "    utterance = f\"{utterance:0>4}\"\n",
    "\n",
    "    alignment_identifier = '-'.join((speaker, chapter, utterance))\n",
    "\n",
    "    path = alignment_root + speaker + \"/\" + chapter + \"/\"\n",
    "    alignment_file = glob(path + \"*alignment.txt\")[0]\n",
    "    with open(alignment_file, encoding=\"utf8\") as file:\n",
    "        timestamps = None\n",
    "        for line in file.readlines():\n",
    "            if alignment_identifier in line:\n",
    "                aligned_text = line.split(' ')[1][1:-1]\n",
    "                timestamps = line.split(' ')[2][1:-2]  # remove newline\n",
    "                timestamps = timestamps.split(',')\n",
    "                timestamps = np.array([float(timestamp) for timestamp in timestamps])\n",
    "                labels = re.sub(r\"[A-Z']+\", 'W', aligned_text)  # we only need word or no word (\"W\", \"\")\n",
    "                labels = np.char.array(labels.split(\",\"), itemsize=4)\n",
    "                break\n",
    "\n",
    "        if timestamps is None:\n",
    "            print(f\"No alignment found for {alignment_identifier}\")\n",
    "\n",
    "    return timestamps, labels\n",
    "\n",
    "\n",
    "def interpolate_labels(timestamps_interp, label_timestamps, labels):\n",
    "    previous_index = 0\n",
    "    labels_interp = np.zeros_like(timestamps_interp)\n",
    "    for label, timestamp in zip(labels, label_timestamps):\n",
    "        index = np.searchsorted(timestamps_interp, timestamp)\n",
    "        labels_interp[previous_index:index] = label\n",
    "        previous_index = index\n",
    "    return labels_interp\n"
   ],
   "metadata": {
    "collapsed": false,
    "ExecuteTime": {
     "end_time": "2024-01-18T16:09:57.851413Z",
     "start_time": "2024-01-18T16:09:57.850033Z"
    }
   }
  },
  {
   "cell_type": "code",
   "execution_count": 4,
   "outputs": [],
   "source": [
    "from pathlib import Path\n",
    "\n",
    "data_folder = \"data/LibriSpeech_example/train-clean-100/\"\n",
    "\n",
    "signal, sampling_rate = audiofile.read(data_folder + \"8629/261140/8629-261140-0001.flac\")\n",
    "\n",
    "identifiers = \"8629-261140-0001\".split(\"-\")\n",
    "\n",
    "timestamps, labels = get_alignment(alignment_root=data_folder, identifiers=identifiers)\n",
    "\n",
    "labels = (labels==\"W\").astype(int)\n",
    "\n",
    "signal_timestamps = np.arange(signal.shape[-1]) / sampling_rate\n",
    "\n",
    "forced_alignment_labels = interpolate_labels(signal_timestamps, timestamps, labels)\n",
    "\n",
    "vad = rVADfast()\n",
    "\n",
    "rVAD_labels, rVAD_timestamps = vad(signal, sampling_rate)"
   ],
   "metadata": {
    "collapsed": false,
    "ExecuteTime": {
     "end_time": "2024-01-18T16:09:58.230475Z",
     "start_time": "2024-01-18T16:09:57.853511Z"
    }
   }
  },
  {
   "cell_type": "code",
   "execution_count": 5,
   "outputs": [
    {
     "data": {
      "text/plain": "[<matplotlib.lines.Line2D at 0x17834cd90>]"
     },
     "execution_count": 5,
     "metadata": {},
     "output_type": "execute_result"
    },
    {
     "data": {
      "text/plain": "<Figure size 640x480 with 1 Axes>",
      "image/png": "[encoded data removed]"
     },
     "metadata": {},
     "output_type": "display_data"
    }
   ],
   "source": [
    "plt.plot(signal_timestamps, forced_alignment_labels)\n",
    "plt.plot(rVAD_timestamps, rVAD_labels)"
   ],
   "metadata": {
    "collapsed": false,
    "ExecuteTime": {
     "end_time": "2024-01-18T16:09:58.390353Z",
     "start_time": "2024-01-18T16:09:58.232713Z"
    }
   }
  },
  {
   "cell_type": "markdown",
   "source": [
    "# rVADfast processing of multiple files\n",
    "Finds audio files and generates .txt file with comma separated timestamps for start time and end time of speech segments."
   ],
   "metadata": {
    "collapsed": false
   }
  },
  {
   "cell_type": "markdown",
   "source": [],
   "metadata": {
    "collapsed": false
   }
  },
  {
   "cell_type": "code",
   "execution_count": 6,
   "outputs": [],
   "source": [
    "from rVADfast.process import rVADfast_multi_process"
   ],
   "metadata": {
    "collapsed": false,
    "ExecuteTime": {
     "end_time": "2024-01-18T16:09:58.434324Z",
     "start_time": "2024-01-18T16:09:58.391939Z"
    }
   }
  },
  {
   "cell_type": "markdown",
   "source": [
    "## Generating vad labels\n",
    "To generate vad labels the ```rVADfast.process``` module can be used which has the ```rVADfast_multi_process``` and ```rVADfast_multi_process```."
   ],
   "metadata": {
    "collapsed": false
   }
  },
  {
   "cell_type": "code",
   "execution_count": 7,
   "outputs": [
    {
     "name": "stdout",
     "output_type": "stream",
     "text": [
      "Scanning data/LibriSpeech_example/train-clean-100/ for files with extension='flac'...\n",
      "Found 102 files.\n",
      "Starting VAD using multiprocessing pool with n_workers=4.\n"
     ]
    },
    {
     "name": "stderr",
     "output_type": "stream",
     "text": [
      "Generating VAD labels: 100%|██████████| 102/102 [00:08<00:00, 12.60files/s]\n"
     ]
    }
   ],
   "source": [
    "rVADfast_multi_process(root_folder=str(data_folder), save_folder=str(data_folder) + \"/vad_labels/\", extension = \"flac\", n_workers=4)"
   ],
   "metadata": {
    "collapsed": false,
    "ExecuteTime": {
     "end_time": "2024-01-18T16:10:06.616144Z",
     "start_time": "2024-01-18T16:09:58.409092Z"
    }
   }
  },
  {
   "cell_type": "markdown",
   "source": [
    "## Generating speech-only files\n",
    "If the vad labels themselves are not of interest, and you simply wish to trim non-speech segments from your audio files, you can pass the ```trim_non_speech``` keyword.\n",
    "Doing so tells the function to trim the original signal from non-speech segments and save into ```save_folder```, instead of saving the vad timestamps.\n",
    "The function keeps the original file_format of the input file."
   ],
   "metadata": {
    "collapsed": false
   }
  },
  {
   "cell_type": "code",
   "execution_count": 8,
   "outputs": [
    {
     "name": "stdout",
     "output_type": "stream",
     "text": [
      "Scanning data/LibriSpeech_example/train-clean-100/ for files with extension='flac'...\n",
      "Found 102 files.\n",
      "Starting VAD using multiprocessing pool with n_workers=4.\n"
     ]
    },
    {
     "name": "stderr",
     "output_type": "stream",
     "text": [
      "Trimming non-speech segments: 100%|██████████| 102/102 [00:07<00:00, 13.21files/s]\n"
     ]
    }
   ],
   "source": [
    "rVADfast_multi_process(root_folder=str(data_folder), save_folder=str(data_folder) + \"/speech_only/\", extension = \"flac\", n_workers=4, trim_non_speech=True)"
   ],
   "metadata": {
    "collapsed": false,
    "ExecuteTime": {
     "end_time": "2024-01-18T16:10:14.430076Z",
     "start_time": "2024-01-18T16:10:06.617483Z"
    }
   }
  }
 ],
 "metadata": {
  "kernelspec": {
   "display_name": "Python 3",
   "language": "python",
   "name": "python3"
  },
  "language_info": {
   "codemirror_mode": {
    "name": "ipython",
    "version": 2
   },
   "file_extension": ".py",
   "mimetype": "text/x-python",
   "name": "python",
   "nbconvert_exporter": "python",
   "pygments_lexer": "ipython2",
   "version": "2.7.6"
  }
 },
 "nbformat": 4,
 "nbformat_minor": 0
}
